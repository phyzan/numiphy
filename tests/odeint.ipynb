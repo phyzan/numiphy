{
 "cells": [
  {
   "cell_type": "code",
   "execution_count": 14,
   "id": "2f4e8fe8",
   "metadata": {},
   "outputs": [
    {
     "name": "stdout",
     "output_type": "stream",
     "text": [
      "\n",
      "OdeResult\n",
      "------------------------\n",
      "------------------------\n",
      "\tPoints           : 20503492\n",
      "\tDiverges         : false\n",
      "\tStiff            : false\n",
      "\tSuccess          : true\n",
      "\tRuntime          : 6.18822\n",
      "\tTermination cause: T_max goal reached\n",
      "\tEvents:\n",
      "\t----------\n",
      "\t    Main event : 15915\n",
      "\t    Periodic Event : 20001\n",
      "\n",
      "\t----------\n",
      "tmax = 100000.0\n"
     ]
    }
   ],
   "source": [
    "from numiphy.odesolvers import *\n",
    "\n",
    "t, x, y, px, py, a, b = variables('t, x, y, px, py, a, b')\n",
    "\n",
    "ev1 = SymbolicEvent(\"Main event\", y-1, py>0)\n",
    "ev2 = SymbolicPeriodicEvent(\"Periodic Event\", 5)\n",
    "\n",
    "odesys = OdeSystem([px, py, -x*a, -y*b], t, x, y, px, py, args=(a, b), events=[ev1, ev2])\n",
    "\n",
    "orbit = odesys.get(t0=0, q0=[1, 1, 2.3, 4.5], rtol=0, atol=1e-14, args=(1, 1))\n",
    "\n",
    "orbit.integrate(100000, event_options={\"Periodic Event\": (-1, False), \"Main event\":(-1, False)}).examine()\n",
    "print('tmax =', orbit.t[-1])"
   ]
  },
  {
   "cell_type": "code",
   "execution_count": null,
   "id": "cdf07939",
   "metadata": {},
   "outputs": [],
   "source": []
  }
 ],
 "metadata": {
  "kernelspec": {
   "display_name": "Python 3.12 (myenv)",
   "language": "python",
   "name": "myenv"
  },
  "language_info": {
   "codemirror_mode": {
    "name": "ipython",
    "version": 3
   },
   "file_extension": ".py",
   "mimetype": "text/x-python",
   "name": "python",
   "nbconvert_exporter": "python",
   "pygments_lexer": "ipython3",
   "version": "3.12.3"
  }
 },
 "nbformat": 4,
 "nbformat_minor": 5
}
