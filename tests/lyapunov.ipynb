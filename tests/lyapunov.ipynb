{
 "cells": [
  {
   "cell_type": "code",
   "execution_count": 1,
   "metadata": {},
   "outputs": [
    {
     "name": "stdout",
     "output_type": "stream",
     "text": [
      "/tmp/tmppxgyxqzm/tmp_cpp_module0.cpp\n",
      "Compiling...\n",
      "Done\n"
     ]
    },
    {
     "name": "stderr",
     "output_type": "stream",
     "text": [
      "cc1plus: fatal error: /home/senpy/myenv/lib/python3.12/site-packages/numiphy/odesolvers/odepack/arrays.cpp: No such file or directory\n",
      "compilation terminated.\n",
      "/tmp/tmppxgyxqzm/tmp_cpp_module0.cpp:1:10: fatal error: /home/senpy/myenv/lib/python3.12/site-packages/numiphy/odesolvers/odepack/pyode.hpp: No such file or directory\n",
      "    1 | #include \"/home/senpy/myenv/lib/python3.12/site-packages/numiphy/odesolvers/odepack/pyode.hpp\"\n",
      "      |          ^~~~~~~~~~~~~~~~~~~~~~~~~~~~~~~~~~~~~~~~~~~~~~~~~~~~~~~~~~~~~~~~~~~~~~~~~~~~~~~~~~~~~\n",
      "compilation terminated.\n"
     ]
    },
    {
     "ename": "ImportError",
     "evalue": "/tmp/tmppxgyxqzm/ode_module0.cpython-312-x86_64-linux-gnu.so: cannot open shared object file: No such file or directory",
     "output_type": "error",
     "traceback": [
      "\u001b[0;31m---------------------------------------------------------------------------\u001b[0m",
      "\u001b[0;31mImportError\u001b[0m                               Traceback (most recent call last)",
      "Cell \u001b[0;32mIn[1], line 16\u001b[0m\n\u001b[1;32m     13\u001b[0m ch \u001b[38;5;241m=\u001b[39m HamiltonianSystem(V, x, y)\n\u001b[1;32m     15\u001b[0m Vfunc \u001b[38;5;241m=\u001b[39m V\u001b[38;5;241m.\u001b[39mlambdify([x, y])\n\u001b[0;32m---> 16\u001b[0m orb1 \u001b[38;5;241m=\u001b[39m \u001b[43mch\u001b[49m\u001b[38;5;241;43m.\u001b[39;49m\u001b[43mnew_varorbit\u001b[49m\u001b[43m(\u001b[49m\u001b[43mg\u001b[49m\u001b[43m(\u001b[49m\u001b[38;5;241;43m0.5\u001b[39;49m\u001b[43m)\u001b[49m\u001b[43m,\u001b[49m\u001b[43m \u001b[49m\u001b[43mlowlevel\u001b[49m\u001b[38;5;241;43m=\u001b[39;49m\u001b[38;5;28;43;01mTrue\u001b[39;49;00m\u001b[43m)\u001b[49m\n\u001b[1;32m     17\u001b[0m orb2 \u001b[38;5;241m=\u001b[39m ch\u001b[38;5;241m.\u001b[39mnew_varorbit(g(\u001b[38;5;241m-\u001b[39m\u001b[38;5;241m0.05\u001b[39m))\n\u001b[1;32m     19\u001b[0m orb1\u001b[38;5;241m.\u001b[39mget(\u001b[38;5;241m10000000\u001b[39m, \u001b[38;5;241m0.01\u001b[39m, err\u001b[38;5;241m=\u001b[39m\u001b[38;5;241m1e-10\u001b[39m, max_frames\u001b[38;5;241m=\u001b[39m\u001b[38;5;241m2\u001b[39m, split\u001b[38;5;241m=\u001b[39m\u001b[38;5;241m10000\u001b[39m)\n",
      "File \u001b[0;32m~/myenv/lib/python3.12/site-packages/numiphy/odesolvers/ode_solvers.py:814\u001b[0m, in \u001b[0;36mHamiltonianSystem.new_varorbit\u001b[0;34m(self, q0, delq0, lowlevel)\u001b[0m\n\u001b[1;32m    813\u001b[0m \u001b[38;5;28;01mdef\u001b[39;00m \u001b[38;5;21mnew_varorbit\u001b[39m(\u001b[38;5;28mself\u001b[39m, q0, delq0\u001b[38;5;241m=\u001b[39m\u001b[38;5;28;01mNone\u001b[39;00m, lowlevel\u001b[38;5;241m=\u001b[39m\u001b[38;5;28;01mTrue\u001b[39;00m):\n\u001b[0;32m--> 814\u001b[0m     orb \u001b[38;5;241m=\u001b[39m VariationalHamiltonianOrbit(\u001b[38;5;28;43mself\u001b[39;49m\u001b[38;5;241;43m.\u001b[39;49m\u001b[43mvariatinal_ode\u001b[49m\u001b[38;5;241;43m.\u001b[39;49m\u001b[43mto_lowlevel\u001b[49m\u001b[43m(\u001b[49m\u001b[43m)\u001b[49m, \u001b[38;5;28mself\u001b[39m\u001b[38;5;241m.\u001b[39mnd) \u001b[38;5;28;01mif\u001b[39;00m lowlevel \u001b[38;5;28;01melse\u001b[39;00m VariationalHamiltonianOrbit(\u001b[38;5;28mself\u001b[39m\u001b[38;5;241m.\u001b[39mvariatinal_ode\u001b[38;5;241m.\u001b[39mto_python(), \u001b[38;5;28mself\u001b[39m\u001b[38;5;241m.\u001b[39mnd)\n\u001b[1;32m    815\u001b[0m     \u001b[38;5;28;01mif\u001b[39;00m delq0 \u001b[38;5;129;01mis\u001b[39;00m \u001b[38;5;28;01mNone\u001b[39;00m:\n\u001b[1;32m    816\u001b[0m         delq0 \u001b[38;5;241m=\u001b[39m [\u001b[38;5;241m1.\u001b[39m, \u001b[38;5;241m*\u001b[39m((\u001b[38;5;241m2\u001b[39m\u001b[38;5;241m*\u001b[39m\u001b[38;5;28mself\u001b[39m\u001b[38;5;241m.\u001b[39mnd\u001b[38;5;241m-\u001b[39m\u001b[38;5;241m1\u001b[39m)\u001b[38;5;241m*\u001b[39m[\u001b[38;5;241m0.\u001b[39m])]\n",
      "File \u001b[0;32m~/myenv/lib/python3.12/site-packages/numiphy/odesolvers/ode_solvers.py:476\u001b[0m, in \u001b[0;36mSymbolicOde.to_lowlevel\u001b[0;34m(self, stack)\u001b[0m\n\u001b[1;32m    475\u001b[0m \u001b[38;5;28;01mdef\u001b[39;00m \u001b[38;5;21mto_lowlevel\u001b[39m(\u001b[38;5;28mself\u001b[39m, stack\u001b[38;5;241m=\u001b[39m\u001b[38;5;28;01mTrue\u001b[39;00m)\u001b[38;5;241m-\u001b[39m\u001b[38;5;241m>\u001b[39mLowLevelODE:\n\u001b[0;32m--> 476\u001b[0m     \u001b[38;5;28;01mreturn\u001b[39;00m \u001b[38;5;28;43mself\u001b[39;49m\u001b[38;5;241;43m.\u001b[39;49m\u001b[43m_lowlevel_stack\u001b[49m\u001b[38;5;241m.\u001b[39mcopy() \u001b[38;5;28;01mif\u001b[39;00m stack \u001b[38;5;28;01melse\u001b[39;00m \u001b[38;5;28mself\u001b[39m\u001b[38;5;241m.\u001b[39m_lowlevel_heap\u001b[38;5;241m.\u001b[39mcopy()\n",
      "File \u001b[0;32m/usr/lib/python3.12/functools.py:995\u001b[0m, in \u001b[0;36mcached_property.__get__\u001b[0;34m(self, instance, owner)\u001b[0m\n\u001b[1;32m    993\u001b[0m val \u001b[38;5;241m=\u001b[39m cache\u001b[38;5;241m.\u001b[39mget(\u001b[38;5;28mself\u001b[39m\u001b[38;5;241m.\u001b[39mattrname, _NOT_FOUND)\n\u001b[1;32m    994\u001b[0m \u001b[38;5;28;01mif\u001b[39;00m val \u001b[38;5;129;01mis\u001b[39;00m _NOT_FOUND:\n\u001b[0;32m--> 995\u001b[0m     val \u001b[38;5;241m=\u001b[39m \u001b[38;5;28;43mself\u001b[39;49m\u001b[38;5;241;43m.\u001b[39;49m\u001b[43mfunc\u001b[49m\u001b[43m(\u001b[49m\u001b[43minstance\u001b[49m\u001b[43m)\u001b[49m\n\u001b[1;32m    996\u001b[0m     \u001b[38;5;28;01mtry\u001b[39;00m:\n\u001b[1;32m    997\u001b[0m         cache[\u001b[38;5;28mself\u001b[39m\u001b[38;5;241m.\u001b[39mattrname] \u001b[38;5;241m=\u001b[39m val\n",
      "File \u001b[0;32m~/myenv/lib/python3.12/site-packages/numiphy/odesolvers/ode_solvers.py:511\u001b[0m, in \u001b[0;36mSymbolicOde._lowlevel_stack\u001b[0;34m(self)\u001b[0m\n\u001b[1;32m    509\u001b[0m \u001b[38;5;129m@cached_property\u001b[39m\n\u001b[1;32m    510\u001b[0m \u001b[38;5;28;01mdef\u001b[39;00m \u001b[38;5;21m_lowlevel_stack\u001b[39m(\u001b[38;5;28mself\u001b[39m):\n\u001b[0;32m--> 511\u001b[0m     \u001b[38;5;28;01mreturn\u001b[39;00m \u001b[38;5;28;43mself\u001b[39;49m\u001b[38;5;241;43m.\u001b[39;49m\u001b[43m_to_lowlevel\u001b[49m\u001b[43m(\u001b[49m\u001b[38;5;28;43;01mTrue\u001b[39;49;00m\u001b[43m)\u001b[49m\n",
      "File \u001b[0;32m~/myenv/lib/python3.12/site-packages/numiphy/odesolvers/ode_solvers.py:503\u001b[0m, in \u001b[0;36mSymbolicOde._to_lowlevel\u001b[0;34m(self, stack)\u001b[0m\n\u001b[1;32m    501\u001b[0m     \u001b[38;5;66;03m#import so file\u001b[39;00m\n\u001b[1;32m    502\u001b[0m     spec \u001b[38;5;241m=\u001b[39m importlib\u001b[38;5;241m.\u001b[39mutil\u001b[38;5;241m.\u001b[39mspec_from_file_location(modname, so_full_path)\n\u001b[0;32m--> 503\u001b[0m     temp_module \u001b[38;5;241m=\u001b[39m \u001b[43mimportlib\u001b[49m\u001b[38;5;241;43m.\u001b[39;49m\u001b[43mutil\u001b[49m\u001b[38;5;241;43m.\u001b[39;49m\u001b[43mmodule_from_spec\u001b[49m\u001b[43m(\u001b[49m\u001b[43mspec\u001b[49m\u001b[43m)\u001b[49m\n\u001b[1;32m    504\u001b[0m     spec\u001b[38;5;241m.\u001b[39mloader\u001b[38;5;241m.\u001b[39mexec_module(temp_module)\n\u001b[1;32m    506\u001b[0m \u001b[38;5;28mself\u001b[39m\u001b[38;5;241m.\u001b[39m\u001b[38;5;18m__class__\u001b[39m\u001b[38;5;241m.\u001b[39m_counter \u001b[38;5;241m+\u001b[39m\u001b[38;5;241m=\u001b[39m \u001b[38;5;241m1\u001b[39m\n",
      "File \u001b[0;32m<frozen importlib._bootstrap>:813\u001b[0m, in \u001b[0;36mmodule_from_spec\u001b[0;34m(spec)\u001b[0m\n",
      "File \u001b[0;32m<frozen importlib._bootstrap_external>:1289\u001b[0m, in \u001b[0;36mcreate_module\u001b[0;34m(self, spec)\u001b[0m\n",
      "File \u001b[0;32m<frozen importlib._bootstrap>:488\u001b[0m, in \u001b[0;36m_call_with_frames_removed\u001b[0;34m(f, *args, **kwds)\u001b[0m\n",
      "\u001b[0;31mImportError\u001b[0m: /tmp/tmppxgyxqzm/ode_module0.cpython-312-x86_64-linux-gnu.so: cannot open shared object file: No such file or directory"
     ]
    }
   ],
   "source": [
    "from numiphy.symlib.expressions import *\n",
    "from numiphy.odesolvers import *\n",
    "import matplotlib.pyplot as plt\n",
    "\n",
    "def g(x0):\n",
    "    return [x0, 0, 0, (2 - 2*Vfunc(x0, 0) - 0**2)**0.5]\n",
    "\n",
    "t, x, y = variables('t, x, y')\n",
    "eps = 0.35\n",
    "a = -Rational(1, 3)\n",
    "\n",
    "V = x**2/2 + y**2/2 + eps*(x*y**2 + a*x**3)\n",
    "ch = HamiltonianSystem(V, x, y)\n",
    "\n",
    "Vfunc = V.lambdify([x, y])\n",
    "orb1 = ch.new_varorbit(g(0.5), lowlevel=True)\n",
    "orb2 = ch.new_varorbit(g(-0.05))\n",
    "\n",
    "orb1.get(10000000, 0.01, err=1e-10, max_frames=2, split=10000)\n",
    "orb2.get(10000000, 0.01, err=1e-10, max_frames=2, split=10000)\n",
    "\n",
    "t1, ind1 = orb1.lyapunov\n",
    "t2, ind2 = orb2.lyapunov\n",
    "\n",
    "fig, ax = plt.subplots()\n",
    "ax.plot(t1, ind1, label='Lissajous')\n",
    "ax.plot(t2, ind2, label='Chaotic')\n",
    "ax.grid(True)\n",
    "ax.legend()"
   ]
  },
  {
   "cell_type": "code",
   "execution_count": 2,
   "metadata": {},
   "outputs": [
    {
     "data": {
      "text/plain": [
       "False"
      ]
     },
     "execution_count": 2,
     "metadata": {},
     "output_type": "execute_result"
    }
   ],
   "source": [
    "os.path.exists(\"/home/senpy/myenv/lib/python3.12/site-packages/numiphy/odesolvers/odepack/arrays.cpp\")"
   ]
  },
  {
   "cell_type": "code",
   "execution_count": null,
   "metadata": {},
   "outputs": [],
   "source": []
  }
 ],
 "metadata": {
  "kernelspec": {
   "display_name": "Python (myenv)",
   "language": "python",
   "name": "myenv"
  },
  "language_info": {
   "codemirror_mode": {
    "name": "ipython",
    "version": 3
   },
   "file_extension": ".py",
   "mimetype": "text/x-python",
   "name": "python",
   "nbconvert_exporter": "python",
   "pygments_lexer": "ipython3",
   "version": "3.12.3"
  }
 },
 "nbformat": 4,
 "nbformat_minor": 2
}
