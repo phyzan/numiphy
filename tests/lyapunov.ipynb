{
 "cells": [
  {
   "cell_type": "code",
   "execution_count": null,
   "metadata": {},
   "outputs": [],
   "source": [
    "from numiphy.symlib.expressions import *\n",
    "from numiphy.odesolvers import *\n",
    "import matplotlib.pyplot as plt\n",
    "\n",
    "def g(x0):\n",
    "    return [x0, 0, 0, (2 - 2*Vfunc(x0, 0) - 0**2)**0.5]\n",
    "\n",
    "t, x, y = variables('t, x, y')\n",
    "eps = 0.35\n",
    "a = -Rational(1, 3)\n",
    "\n",
    "V = x**2/2 + y**2/2 + eps*(x*y**2 + a*x**3)\n",
    "ch = HamiltonianSystem(V, x, y)\n",
    "\n",
    "Vfunc = V.lambdify([x, y])\n",
    "orb1 = ch.new_varorbit(g(0.5), lowlevel=True)\n",
    "orb2 = ch.new_varorbit(g(-0.05))\n",
    "\n",
    "orb1.get(10000000, 0.01, err=1e-10, max_frames=2, split=10000)\n",
    "orb2.get(10000000, 0.01, err=1e-10, max_frames=2, split=10000)\n",
    "\n",
    "t1, ind1 = orb1.lyapunov\n",
    "t2, ind2 = orb2.lyapunov\n",
    "\n",
    "fig, ax = plt.subplots()\n",
    "ax.plot(t1, ind1, label='Lissajous')\n",
    "ax.plot(t2, ind2, label='Chaotic')\n",
    "ax.grid(True)\n",
    "ax.legend()"
   ]
  },
  {
   "cell_type": "code",
   "execution_count": null,
   "metadata": {},
   "outputs": [
    {
     "name": "stdout",
     "output_type": "stream",
     "text": [
      "Compiling ODE...\n",
      "Done\n",
      "Compiling ODE...\n",
      "Done\n",
      "1.0  times faster than the equivalent python code\n",
      "42.75  times faster than the equivalent python code\n",
      "177.26  times faster than the equivalent python code\n"
     ]
    }
   ],
   "source": [
    "from numiphy.symlib.expressions import *\n",
    "from numiphy.odesolvers import *\n",
    "import matplotlib.pyplot as plt\n",
    "\n",
    "t, x, y, px, py = variables('t, x, y, px, py')\n",
    "\n",
    "symode = SymbolicOde(px, py, -x, -y, symbols=[t, x, y, px, py])\n",
    "ode_fast = symode.to_lowlevel(stack=True)\n",
    "ode_mid = symode.to_lowlevel(stack=False)\n",
    "ode_slow = symode.to_python()\n",
    "res: dict[ODE, OdeResult] = {ode_slow: None, ode_mid: None, ode_fast: None}\n",
    "for ode in res:\n",
    "    ics = (0, [1.3, -2.4, 3.7, 0.2])\n",
    "    res[ode] = ode.solve(ics, 500, 0.1, err=1e-8, method='RK4')\n",
    "    print(round(res[ode_slow].runtime / res[ode].runtime, 2), \" times faster than the equivalent python code\")\n",
    "\n",
    "#normalized runtimes should be: 1, ~40 , ~150"
   ]
  },
  {
   "cell_type": "code",
   "execution_count": null,
   "metadata": {},
   "outputs": [],
   "source": [
    "np.all(res[ode_fast].func == res[ode_slow].func) #should be true. C++ and python implementation of the adaptive RK4 method are identical for numbers of the same precision."
   ]
  },
  {
   "cell_type": "code",
   "execution_count": null,
   "metadata": {},
   "outputs": [
    {
     "name": "stdout",
     "output_type": "stream",
     "text": [
      "Compiling ODE...\n",
      "Done\n",
      "Multithreaded Low level ode was 5.376948130013771 times faster than single threaded,\n",
      "\n",
      "while it was 1013.7382784323155 times faster than the pythonic implementation\n",
      "Singlethreaded Low level ode was 188.53413756656775 times faster than the pythonic implementation.\n",
      "\n"
     ]
    }
   ],
   "source": [
    "from numiphy.symlib.expressions import *\n",
    "from numiphy.odesolvers import *\n",
    "import time\n",
    "\n",
    "t, x, y, px, py = variables('t, x, y, px, py')\n",
    "\n",
    "symode = SymbolicOde(px, py, -x, -y, symbols=[t, x, y, px, py])\n",
    "ode_fast = symode.to_lowlevel(stack=True)\n",
    "ode_slow = symode.to_python()\n",
    "\n",
    "ics = 12*[(0, [1.3, -2.4, 3.7, 0.2])]\n",
    "\n",
    "t1 = time.time()\n",
    "r_fast = ode_fast.solve_all(ics, 500, 0.1, err=1e-10, method='RK4', threads=-1, max_frames=1000)\n",
    "t2 = time.time()\n",
    "r_slow = ode_fast.solve_all(ics, 500, 0.1, err=1e-10, method='RK4', threads=1, max_frames=1000)\n",
    "t3 = time.time()\n",
    "r_python = ode_slow.solve_all(ics, 500, 0.1, err=1e-10, method='RK4', max_frames=1000)\n",
    "t4 = time.time()\n",
    "print(f'Multithreaded Low level ode was {(t3-t2)/(t2-t1)} times faster than single threaded,')\n",
    "print(f'while it was {(t4-t3)/(t2-t1)} times faster than the pythonic implementation\\n')\n",
    "print(f'Singlethreaded Low level ode was {(t4-t3)/(t3-t2)} times faster than the pythonic implementation.\\n')\n"
   ]
  }
 ],
 "metadata": {
  "kernelspec": {
   "display_name": "Python (myenv)",
   "language": "python",
   "name": "myenv"
  },
  "language_info": {
   "codemirror_mode": {
    "name": "ipython",
    "version": 3
   },
   "file_extension": ".py",
   "mimetype": "text/x-python",
   "name": "python",
   "nbconvert_exporter": "python",
   "pygments_lexer": "ipython3",
   "version": "3.12.3"
  }
 },
 "nbformat": 4,
 "nbformat_minor": 2
}
