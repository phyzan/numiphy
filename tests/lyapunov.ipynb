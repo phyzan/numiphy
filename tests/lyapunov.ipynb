{
 "cells": [
  {
   "cell_type": "code",
   "execution_count": 5,
   "metadata": {},
   "outputs": [
    {
     "data": {
      "text/plain": [
       "<matplotlib.legend.Legend at 0x7cb340d30d70>"
      ]
     },
     "execution_count": 5,
     "metadata": {},
     "output_type": "execute_result"
    },
    {
     "data": {
      "image/png": "[encoded data removed]",
      "text/plain": [
       "<Figure size 640x480 with 1 Axes>"
      ]
     },
     "metadata": {},
     "output_type": "display_data"
    }
   ],
   "source": [
    "from numiphy.symlib.expressions import *\n",
    "from numiphy.odesolvers import *\n",
    "import matplotlib.pyplot as plt\n",
    "\n",
    "def g(x0):\n",
    "    return [x0, 0, 0, (2 - 2*Vfunc(x0, 0) - 0**2)**0.5]\n",
    "\n",
    "t, x, y = variables('t, x, y')\n",
    "eps = 0.35\n",
    "a = -Rational(1, 3)\n",
    "\n",
    "V = x**2/2 + y**2/2 + eps*(x*y**2 + a*x**3)\n",
    "ch = HamiltonianSystem(V, x, y)\n",
    "\n",
    "Vfunc = V.lambdify([x, y])\n",
    "orb1 = ch.new_varorbit(g(0.5))\n",
    "orb2 = ch.new_varorbit(g(-0.05))\n",
    "\n",
    "orb1.get(100000, 0.01, rtol=1e-12, atol=0., max_frames=2, split=100, renorm=True)\n",
    "orb2.get(100000, 0.01, rtol=1e-12, atol=0., max_frames=2, split=100, renorm=True)\n",
    "\n",
    "t1, ind1 = orb1.lyapunov\n",
    "t2, ind2 = orb2.lyapunov\n",
    "\n",
    "fig, ax = plt.subplots()\n",
    "ax.plot(t1, ind1, label='Lissajous')\n",
    "ax.plot(t2, ind2, label='Chaotic')\n",
    "ax.grid(True)\n",
    "ax.legend()"
   ]
  },
  {
   "cell_type": "code",
   "execution_count": null,
   "metadata": {},
   "outputs": [
    {
     "name": "stdout",
     "output_type": "stream",
     "text": [
      "1.0  times faster than the equivalent python code\n",
      "52.35  times faster than the equivalent python code\n",
      "139.87  times faster than the equivalent python code\n"
     ]
    }
   ],
   "source": [
    "from numiphy.symlib.expressions import *\n",
    "from numiphy.odesolvers import *\n",
    "import matplotlib.pyplot as plt\n",
    "\n",
    "t, x, y, px, py = variables('t, x, y, px, py')\n",
    "\n",
    "symode = SymbolicOde(px, py, -x, -y, symbols=[t, x, y, px, py])\n",
    "ode_fast = symode.to_lowlevel(stack=True)\n",
    "ode_mid = symode.to_lowlevel(stack=False)\n",
    "ode_slow = symode.to_python()\n",
    "res: dict[LowLevelODE, OdeResult] = {ode_slow: None, ode_mid: None, ode_fast: None}\n",
    "for ode in res:\n",
    "    ics = (0, [1.3, -2.4, 3.7, 0.2])\n",
    "    res[ode] = ode.solve(ics, 500, 0.1, rtol=1e-8, method='RK45')\n",
    "    print(round(res[ode_slow].runtime / res[ode].runtime, 2), \" times faster than the equivalent python code\")\n",
    "\n",
    "#normalized runtimes should be: 1, ~50 , ~150"
   ]
  },
  {
   "cell_type": "code",
   "execution_count": 3,
   "metadata": {},
   "outputs": [
    {
     "data": {
      "text/plain": [
       "np.True_"
      ]
     },
     "execution_count": 3,
     "metadata": {},
     "output_type": "execute_result"
    }
   ],
   "source": [
    "np.all(res[ode_fast].y == res[ode_slow].y) #should be true. C++ and python implementation of the adaptive RK4 method are identical for numbers of the same precision."
   ]
  },
  {
   "cell_type": "code",
   "execution_count": null,
   "metadata": {},
   "outputs": [
    {
     "name": "stdout",
     "output_type": "stream",
     "text": [
      "Compiling ODE...\n",
      "Done\n",
      "Scipy: 1\n",
      "Single-threaded Lowlevel python: 1.8360588538509934\n",
      "Single-threaded pure lowlevel: 259.53932741911115\n",
      "Multi-threaded pure lowlevel: 613.6986423722758\n"
     ]
    }
   ],
   "source": [
    "from numiphy.symlib.expressions import *\n",
    "from numiphy.odesolvers import *\n",
    "from scipy.integrate import solve_ivp\n",
    "import time\n",
    "\n",
    "t, x, y, px, py = variables('t, x, y, px, py')\n",
    "\n",
    "symode = SymbolicOde(px, py, -x, -y, symbols=[t, x, y, px, py])\n",
    "ode_fast = symode.to_lowlevel(stack=True)\n",
    "ode_slow = symode.to_python()\n",
    "f = symode.codegen().python_callable(ode_style=True)\n",
    "\n",
    "\n",
    "params = 12*[dict(ics = (0, [1.3, -2.4, 3.7, 0.2]), t=5000, dt=0.1, rtol=1e-6, atol=1e-12, cutoff_step=0., method='RK45', max_frames=0, args=())]\n",
    "\n",
    "t1 = time.time()\n",
    "r_fast = ode_fast.solve_all(params, threads=-1)\n",
    "t2 = time.time()\n",
    "r_slow = ode_fast.solve_all(params, threads=1)\n",
    "t3 = time.time()\n",
    "r_python = ode_slow.solve_all(params, threads=1)\n",
    "t4 = time.time()\n",
    "r_scipy = [solve_ivp(f, (0, 5000), [1.3, -2.4, 3.7, 0.2], first_step=0.1, rtol=1e-6, atol=1e-12) for _ in range(12)]\n",
    "t5 = time.time()\n",
    "\n",
    "scale = t5-t4\n",
    "print('Scipy:', 1)\n",
    "print('Single-threaded Lowlevel python:', scale/(t4-t3))\n",
    "print('Single-threaded pure lowlevel:', scale/(t3-t2))\n",
    "print('Multi-threaded pure lowlevel:', scale/(t2-t1))\n"
   ]
  },
  {
   "cell_type": "code",
   "execution_count": 4,
   "metadata": {},
   "outputs": [],
   "source": [
    "from numiphy.symlib.expressions import *\n",
    "\n",
    "x, y, z = variables('x, y, z')\n",
    "\n",
    "f = Piecewise((x**2, z<4), (z+y, z<10), (x**5, True))\n",
    "\n",
    "g = Subs(f, {z:10, x: 4, y:5})"
   ]
  },
  {
   "cell_type": "code",
   "execution_count": 5,
   "metadata": {},
   "outputs": [
    {
     "data": {
      "text/plain": [
       "1024"
      ]
     },
     "execution_count": 5,
     "metadata": {},
     "output_type": "execute_result"
    }
   ],
   "source": [
    "g.eval()"
   ]
  },
  {
   "cell_type": "code",
   "execution_count": null,
   "metadata": {},
   "outputs": [],
   "source": []
  }
 ],
 "metadata": {
  "kernelspec": {
   "display_name": "Python (myenv)",
   "language": "python",
   "name": "myenv"
  },
  "language_info": {
   "codemirror_mode": {
    "name": "ipython",
    "version": 3
   },
   "file_extension": ".py",
   "mimetype": "text/x-python",
   "name": "python",
   "nbconvert_exporter": "python",
   "pygments_lexer": "ipython3",
   "version": "3.12.3"
  }
 },
 "nbformat": 4,
 "nbformat_minor": 2
}
